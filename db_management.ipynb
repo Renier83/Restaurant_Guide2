{
 "cells": [
  {
   "cell_type": "code",
   "execution_count": 22,
   "metadata": {},
   "outputs": [],
   "source": [
    "import pandas as pd\n",
    "import matplotlib.pyplot as plt\n",
    "import numpy as np\n",
    "import requests\n",
    "import pymongo\n",
    "import re\n",
    "import pymysql\n",
    "from sqlalchemy import create_engine\n",
    "pymysql.install_as_MySQLdb()\n",
    "import time\n",
    "\n",
    "# getting gkey from the config file\n",
    "from config import gkey\n",
    "\n",
    "# getting the info for sql bench\n",
    "from config import remote_db_endpoint, remote_db_port\n",
    "from config import remote_db_name, remote_db_user, remote_db_pwd"
   ]
  },
  {
   "cell_type": "code",
   "execution_count": 23,
   "metadata": {},
   "outputs": [],
   "source": [
    "# Creating engine to mysql\n",
    "engine = create_engine(f\"mysql://{remote_db_user}:{remote_db_pwd}@{remote_db_endpoint}:{remote_db_port}/{remote_db_name}\")\n",
    "conn = engine.connect()"
   ]
  },
  {
   "cell_type": "markdown",
   "metadata": {},
   "source": [
    "# SELECT statement"
   ]
  },
  {
   "cell_type": "code",
   "execution_count": 41,
   "metadata": {},
   "outputs": [
    {
     "data": {
      "text/html": [
       "<div>\n",
       "<style scoped>\n",
       "    .dataframe tbody tr th:only-of-type {\n",
       "        vertical-align: middle;\n",
       "    }\n",
       "\n",
       "    .dataframe tbody tr th {\n",
       "        vertical-align: top;\n",
       "    }\n",
       "\n",
       "    .dataframe thead th {\n",
       "        text-align: right;\n",
       "    }\n",
       "</style>\n",
       "<table border=\"1\" class=\"dataframe\">\n",
       "  <thead>\n",
       "    <tr style=\"text-align: right;\">\n",
       "      <th></th>\n",
       "      <th>city</th>\n",
       "      <th>type</th>\n",
       "      <th>keyword</th>\n",
       "      <th>business_status</th>\n",
       "      <th>lat</th>\n",
       "      <th>lng</th>\n",
       "      <th>icon</th>\n",
       "      <th>name</th>\n",
       "      <th>place_id</th>\n",
       "      <th>price_level</th>\n",
       "      <th>photo_reference</th>\n",
       "      <th>rating</th>\n",
       "      <th>place_types</th>\n",
       "      <th>user_ratings_total</th>\n",
       "      <th>address</th>\n",
       "    </tr>\n",
       "  </thead>\n",
       "  <tbody>\n",
       "    <tr>\n",
       "      <th>0</th>\n",
       "      <td>Mayaguez</td>\n",
       "      <td>restaurant</td>\n",
       "      <td>spanish</td>\n",
       "      <td>OPERATIONAL</td>\n",
       "      <td>18.178452</td>\n",
       "      <td>-67.171354</td>\n",
       "      <td>https://maps.gstatic.com/mapfiles/place_api/ic...</td>\n",
       "      <td>El Mesón Español</td>\n",
       "      <td>ChIJRX72p46yAowRKdZlg5F3WOA</td>\n",
       "      <td>NaN</td>\n",
       "      <td>ATtYBwL5qMVzSYNIuHPL9vYbUUD797FHzm3CO3zzW-c_hn...</td>\n",
       "      <td>4.6</td>\n",
       "      <td>['restaurant', 'food', 'point_of_interest', 'e...</td>\n",
       "      <td>83</td>\n",
       "      <td>PR-102, Mayagüez</td>\n",
       "    </tr>\n",
       "    <tr>\n",
       "      <th>1</th>\n",
       "      <td>Mayaguez</td>\n",
       "      <td>restaurant</td>\n",
       "      <td>spanish</td>\n",
       "      <td>CLOSED_TEMPORARILY</td>\n",
       "      <td>18.206363</td>\n",
       "      <td>-67.152943</td>\n",
       "      <td>https://maps.gstatic.com/mapfiles/place_api/ic...</td>\n",
       "      <td>Costa</td>\n",
       "      <td>ChIJ4cp1kjeyAowRU9LIk2UNEFo</td>\n",
       "      <td>2.0</td>\n",
       "      <td>ATtYBwKYZJPsXf5rlhAY2NG5nQKyhse_kZxibGqcMvuurS...</td>\n",
       "      <td>4.5</td>\n",
       "      <td>['restaurant', 'food', 'point_of_interest', 'e...</td>\n",
       "      <td>376</td>\n",
       "      <td>Mayagüez</td>\n",
       "    </tr>\n",
       "    <tr>\n",
       "      <th>2</th>\n",
       "      <td>Mayaguez</td>\n",
       "      <td>restaurant</td>\n",
       "      <td>spanish</td>\n",
       "      <td>OPERATIONAL</td>\n",
       "      <td>18.200994</td>\n",
       "      <td>-67.137353</td>\n",
       "      <td>https://maps.gstatic.com/mapfiles/place_api/ic...</td>\n",
       "      <td>La Jibarita</td>\n",
       "      <td>ChIJDQpRv7WzAowRaqdDH5_4J70</td>\n",
       "      <td>2.0</td>\n",
       "      <td>ATtYBwLN9o_VPRzKa0ugAMFxyMD5mM8bYuWvDthxZdVrRK...</td>\n",
       "      <td>4.6</td>\n",
       "      <td>['night_club', 'meal_takeaway', 'bar', 'restau...</td>\n",
       "      <td>856</td>\n",
       "      <td>109 Calle Martinez Nadal, Esquina, Calle Ernes...</td>\n",
       "    </tr>\n",
       "    <tr>\n",
       "      <th>3</th>\n",
       "      <td>Mayaguez</td>\n",
       "      <td>restaurant</td>\n",
       "      <td>spanish</td>\n",
       "      <td>OPERATIONAL</td>\n",
       "      <td>18.202782</td>\n",
       "      <td>-67.144808</td>\n",
       "      <td>https://maps.gstatic.com/mapfiles/place_api/ic...</td>\n",
       "      <td>Restaurante Sancho Panza</td>\n",
       "      <td>ChIJb7R7YkqyAowRwCYWuAezVsg</td>\n",
       "      <td>1.0</td>\n",
       "      <td>ATtYBwJMa7Rfy5eABFUoul3nOt5C-djjSVh_9ziYUQuY9T...</td>\n",
       "      <td>4.4</td>\n",
       "      <td>['restaurant', 'food', 'point_of_interest', 'e...</td>\n",
       "      <td>902</td>\n",
       "      <td>87 Oeste Calle de la Candelaria, Mayagüez</td>\n",
       "    </tr>\n",
       "    <tr>\n",
       "      <th>4</th>\n",
       "      <td>Mayaguez</td>\n",
       "      <td>restaurant</td>\n",
       "      <td>spanish</td>\n",
       "      <td>OPERATIONAL</td>\n",
       "      <td>18.247106</td>\n",
       "      <td>-67.174939</td>\n",
       "      <td>https://maps.gstatic.com/mapfiles/place_api/ic...</td>\n",
       "      <td>Alcatraz Beach Bar &amp; Restaurant</td>\n",
       "      <td>ChIJ305OdtixAowRdtldZXnPLbE</td>\n",
       "      <td>1.0</td>\n",
       "      <td>ATtYBwLDX1Jnb-lOsEMtZWPeJUtjLoIPMSNoeifHKXhPBN...</td>\n",
       "      <td>4.5</td>\n",
       "      <td>['restaurant', 'food', 'point_of_interest', 'e...</td>\n",
       "      <td>137</td>\n",
       "      <td>carr 341 esquina carr 64, El Mani</td>\n",
       "    </tr>\n",
       "  </tbody>\n",
       "</table>\n",
       "</div>"
      ],
      "text/plain": [
       "       city        type  keyword     business_status        lat        lng  \\\n",
       "0  Mayaguez  restaurant  spanish         OPERATIONAL  18.178452 -67.171354   \n",
       "1  Mayaguez  restaurant  spanish  CLOSED_TEMPORARILY  18.206363 -67.152943   \n",
       "2  Mayaguez  restaurant  spanish         OPERATIONAL  18.200994 -67.137353   \n",
       "3  Mayaguez  restaurant  spanish         OPERATIONAL  18.202782 -67.144808   \n",
       "4  Mayaguez  restaurant  spanish         OPERATIONAL  18.247106 -67.174939   \n",
       "\n",
       "                                                icon  \\\n",
       "0  https://maps.gstatic.com/mapfiles/place_api/ic...   \n",
       "1  https://maps.gstatic.com/mapfiles/place_api/ic...   \n",
       "2  https://maps.gstatic.com/mapfiles/place_api/ic...   \n",
       "3  https://maps.gstatic.com/mapfiles/place_api/ic...   \n",
       "4  https://maps.gstatic.com/mapfiles/place_api/ic...   \n",
       "\n",
       "                              name                     place_id  price_level  \\\n",
       "0                 El Mesón Español  ChIJRX72p46yAowRKdZlg5F3WOA          NaN   \n",
       "1                            Costa  ChIJ4cp1kjeyAowRU9LIk2UNEFo          2.0   \n",
       "2                      La Jibarita  ChIJDQpRv7WzAowRaqdDH5_4J70          2.0   \n",
       "3         Restaurante Sancho Panza  ChIJb7R7YkqyAowRwCYWuAezVsg          1.0   \n",
       "4  Alcatraz Beach Bar & Restaurant  ChIJ305OdtixAowRdtldZXnPLbE          1.0   \n",
       "\n",
       "                                     photo_reference  rating  \\\n",
       "0  ATtYBwL5qMVzSYNIuHPL9vYbUUD797FHzm3CO3zzW-c_hn...     4.6   \n",
       "1  ATtYBwKYZJPsXf5rlhAY2NG5nQKyhse_kZxibGqcMvuurS...     4.5   \n",
       "2  ATtYBwLN9o_VPRzKa0ugAMFxyMD5mM8bYuWvDthxZdVrRK...     4.6   \n",
       "3  ATtYBwJMa7Rfy5eABFUoul3nOt5C-djjSVh_9ziYUQuY9T...     4.4   \n",
       "4  ATtYBwLDX1Jnb-lOsEMtZWPeJUtjLoIPMSNoeifHKXhPBN...     4.5   \n",
       "\n",
       "                                         place_types  user_ratings_total  \\\n",
       "0  ['restaurant', 'food', 'point_of_interest', 'e...                  83   \n",
       "1  ['restaurant', 'food', 'point_of_interest', 'e...                 376   \n",
       "2  ['night_club', 'meal_takeaway', 'bar', 'restau...                 856   \n",
       "3  ['restaurant', 'food', 'point_of_interest', 'e...                 902   \n",
       "4  ['restaurant', 'food', 'point_of_interest', 'e...                 137   \n",
       "\n",
       "                                             address  \n",
       "0                                   PR-102, Mayagüez  \n",
       "1                                           Mayagüez  \n",
       "2  109 Calle Martinez Nadal, Esquina, Calle Ernes...  \n",
       "3          87 Oeste Calle de la Candelaria, Mayagüez  \n",
       "4                  carr 341 esquina carr 64, El Mani  "
      ]
     },
     "execution_count": 41,
     "metadata": {},
     "output_type": "execute_result"
    }
   ],
   "source": [
    "rating_df = pd.read_sql(\n",
    "        \"SELECT * from pr.restaurants_tbl where city='Mayaguez'\",\n",
    "        con=engine\n",
    "    )\n",
    "\n",
    "rating_df.head()"
   ]
  },
  {
   "cell_type": "code",
   "execution_count": 38,
   "metadata": {},
   "outputs": [
    {
     "data": {
      "text/html": [
       "<div>\n",
       "<style scoped>\n",
       "    .dataframe tbody tr th:only-of-type {\n",
       "        vertical-align: middle;\n",
       "    }\n",
       "\n",
       "    .dataframe tbody tr th {\n",
       "        vertical-align: top;\n",
       "    }\n",
       "\n",
       "    .dataframe thead th {\n",
       "        text-align: right;\n",
       "    }\n",
       "</style>\n",
       "<table border=\"1\" class=\"dataframe\">\n",
       "  <thead>\n",
       "    <tr style=\"text-align: right;\">\n",
       "      <th></th>\n",
       "      <th>Restaurant Name</th>\n",
       "      <th>Type</th>\n",
       "      <th>Status</th>\n",
       "      <th>Price</th>\n",
       "      <th>Rating</th>\n",
       "      <th>Address</th>\n",
       "    </tr>\n",
       "  </thead>\n",
       "  <tbody>\n",
       "    <tr>\n",
       "      <th>0</th>\n",
       "      <td>Asturias Lounge Bar</td>\n",
       "      <td>spanish</td>\n",
       "      <td>OPERATIONAL</td>\n",
       "      <td>2</td>\n",
       "      <td>4.7</td>\n",
       "      <td>Asturias, 7045 Cll Mendez Vigo, Ponce</td>\n",
       "    </tr>\n",
       "    <tr>\n",
       "      <th>1</th>\n",
       "      <td>El Barril de la Mulata</td>\n",
       "      <td>puertorican</td>\n",
       "      <td>OPERATIONAL</td>\n",
       "      <td>1</td>\n",
       "      <td>4.6</td>\n",
       "      <td>151 Calle Villa, Ponce</td>\n",
       "    </tr>\n",
       "    <tr>\n",
       "      <th>2</th>\n",
       "      <td>LongHorn Steakhouse</td>\n",
       "      <td>middle eastern</td>\n",
       "      <td>OPERATIONAL</td>\n",
       "      <td>2</td>\n",
       "      <td>4.5</td>\n",
       "      <td>2050, 2050 Ponce Bypass Ste 225, Ponce</td>\n",
       "    </tr>\n",
       "    <tr>\n",
       "      <th>3</th>\n",
       "      <td>New York Buffet</td>\n",
       "      <td>chinese</td>\n",
       "      <td>OPERATIONAL</td>\n",
       "      <td>2</td>\n",
       "      <td>4.5</td>\n",
       "      <td>Super Buffet, New York, Ponce</td>\n",
       "    </tr>\n",
       "    <tr>\n",
       "      <th>4</th>\n",
       "      <td>McDonald's</td>\n",
       "      <td>fast food</td>\n",
       "      <td>OPERATIONAL</td>\n",
       "      <td>1</td>\n",
       "      <td>4.3</td>\n",
       "      <td>Ponce</td>\n",
       "    </tr>\n",
       "  </tbody>\n",
       "</table>\n",
       "</div>"
      ],
      "text/plain": [
       "          Restaurant Name            Type       Status  Price  Rating  \\\n",
       "0     Asturias Lounge Bar         spanish  OPERATIONAL      2     4.7   \n",
       "1  El Barril de la Mulata     puertorican  OPERATIONAL      1     4.6   \n",
       "2     LongHorn Steakhouse  middle eastern  OPERATIONAL      2     4.5   \n",
       "3         New York Buffet         chinese  OPERATIONAL      2     4.5   \n",
       "4              McDonald's       fast food  OPERATIONAL      1     4.3   \n",
       "\n",
       "                                  Address  \n",
       "0   Asturias, 7045 Cll Mendez Vigo, Ponce  \n",
       "1                  151 Calle Villa, Ponce  \n",
       "2  2050, 2050 Ponce Bypass Ste 225, Ponce  \n",
       "3           Super Buffet, New York, Ponce  \n",
       "4                                   Ponce  "
      ]
     },
     "execution_count": 38,
     "metadata": {},
     "output_type": "execute_result"
    }
   ],
   "source": [
    "rating_df = pd.read_sql(\n",
    "        \"SELECT name as 'Restaurant Name', keyword as Type, business_status as Status, CAST(price_level AS UNSIGNED) as Price, rating as Rating, address as Address from pr.restaurants_tbl where city='Ponce' and price_level >=0  group by keyword\",\n",
    "        con=engine\n",
    "    )\n",
    "\n",
    "rating_df "
   ]
  },
  {
   "cell_type": "markdown",
   "metadata": {},
   "source": [
    "# Update"
   ]
  },
  {
   "cell_type": "code",
   "execution_count": 17,
   "metadata": {},
   "outputs": [
    {
     "data": {
      "text/plain": [
       "<sqlalchemy.engine.result.ResultProxy at 0x1f0f0dadca0>"
      ]
     },
     "execution_count": 17,
     "metadata": {},
     "output_type": "execute_result"
    }
   ],
   "source": [
    "# pr.restaurants_tbl.update().set('\"'keyword\", \"Beijing\").where(\"Name = 'Peking'\")\n",
    "\n",
    "conn.execute(\n",
    "        \"update pr.restaurants_tbl set keyword='French' where keyword='french'\",\n",
    "    )"
   ]
  },
  {
   "cell_type": "code",
   "execution_count": 19,
   "metadata": {},
   "outputs": [
    {
     "data": {
      "text/plain": [
       "<sqlalchemy.engine.result.ResultProxy at 0x1f0f0d61f10>"
      ]
     },
     "execution_count": 19,
     "metadata": {},
     "output_type": "execute_result"
    }
   ],
   "source": [
    "conn.execute(\n",
    "        \"update pr.restaurants_tbl set city='San Juan' where city='san juan'\",\n",
    "    )"
   ]
  },
  {
   "cell_type": "code",
   "execution_count": null,
   "metadata": {},
   "outputs": [],
   "source": []
  },
  {
   "cell_type": "markdown",
   "metadata": {},
   "source": [
    "# Truncate will purge the data"
   ]
  },
  {
   "cell_type": "markdown",
   "metadata": {},
   "source": [
    "# Truncate statement"
   ]
  },
  {
   "cell_type": "code",
   "execution_count": 29,
   "metadata": {},
   "outputs": [
    {
     "data": {
      "text/plain": [
       "<sqlalchemy.engine.result.ResultProxy at 0x1f0f0df62b0>"
      ]
     },
     "execution_count": 29,
     "metadata": {},
     "output_type": "execute_result"
    }
   ],
   "source": [
    "conn.execute(\n",
    "        \"truncate table pr.restaurants_tbl\",\n",
    "    )"
   ]
  },
  {
   "cell_type": "code",
   "execution_count": null,
   "metadata": {},
   "outputs": [],
   "source": []
  }
 ],
 "metadata": {
  "kernelspec": {
   "display_name": "Python 3",
   "language": "python",
   "name": "python3"
  },
  "language_info": {
   "codemirror_mode": {
    "name": "ipython",
    "version": 3
   },
   "file_extension": ".py",
   "mimetype": "text/x-python",
   "name": "python",
   "nbconvert_exporter": "python",
   "pygments_lexer": "ipython3",
   "version": "3.8.5"
  }
 },
 "nbformat": 4,
 "nbformat_minor": 4
}
